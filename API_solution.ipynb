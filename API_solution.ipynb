{
 "cells": [
  {
   "cell_type": "markdown",
   "metadata": {},
   "source": [
    "This exercise will require you to pull some data from the Qunadl API. Qaundl is currently the most widely used aggregator of financial market data."
   ]
  },
  {
   "cell_type": "markdown",
   "metadata": {},
   "source": [
    "As a first step, you will need to register a free account on the http://www.quandl.com website."
   ]
  },
  {
   "cell_type": "markdown",
   "metadata": {},
   "source": [
    "After you register, you will be provided with a unique API key, that you should store:"
   ]
  },
  {
   "cell_type": "code",
   "execution_count": 1,
   "metadata": {},
   "outputs": [],
   "source": [
    "# Store the API key as a string - according to PEP8, constants are always named in all upper case\n",
    "API_KEY = 'Enter API key here'"
   ]
  },
  {
   "cell_type": "markdown",
   "metadata": {},
   "source": [
    "Qaundl has a large number of data sources, but, unfortunately, most of them require a Premium subscription. Still, there are also a good number of free datasets."
   ]
  },
  {
   "cell_type": "markdown",
   "metadata": {},
   "source": [
    "For this mini project, we will focus on equities data from the Frankfurt Stock Exhange (FSE), which is available for free. We'll try and analyze the stock prices of a company called Carl Zeiss Meditec, which manufactures tools for eye examinations, as well as medical lasers for laser eye surgery: https://www.zeiss.com/meditec/int/home.html. The company is listed under the stock ticker AFX_X."
   ]
  },
  {
   "cell_type": "markdown",
   "metadata": {},
   "source": [
    "You can find the detailed Quandl API instructions here: https://docs.quandl.com/docs/time-series"
   ]
  },
  {
   "cell_type": "markdown",
   "metadata": {},
   "source": [
    "While there is a dedicated Python package for connecting to the Quandl API, we would prefer that you use the *requests* package, which can be easily downloaded using *pip* or *conda*. You can find the documentation for the package here: http://docs.python-requests.org/en/master/ "
   ]
  },
  {
   "cell_type": "markdown",
   "metadata": {},
   "source": [
    "Finally, apart from the *requests* package, you are encouraged to not use any third party Python packages, such as *pandas*, and instead focus on what's available in the Python Standard Library (the *collections* module might come in handy: https://pymotw.com/3/collections/ ).\n",
    "Also, since you won't have access to DataFrames, you are encouraged to us Python's native data structures - preferably dictionaries, though some questions can also be answered using lists.\n",
    "You can read more on these data structures here: https://docs.python.org/3/tutorial/datastructures.html"
   ]
  },
  {
   "cell_type": "markdown",
   "metadata": {},
   "source": [
    "Keep in mind that the JSON responses you will be getting from the API map almost one-to-one to Python's dictionaries. Unfortunately, they can be very nested, so make sure you read up on indexing dictionaries in the documentation provided above."
   ]
  },
  {
   "cell_type": "code",
   "execution_count": 132,
   "metadata": {},
   "outputs": [
    {
     "name": "stdout",
     "output_type": "stream",
     "text": [
      "Requirement already satisfied: requests in c:\\users\\evan\\anaconda3\\lib\\site-packages (2.21.0)\n",
      "Requirement already satisfied: urllib3<1.25,>=1.21.1 in c:\\users\\evan\\anaconda3\\lib\\site-packages (from requests) (1.24.1)\n",
      "Requirement already satisfied: chardet<3.1.0,>=3.0.2 in c:\\users\\evan\\anaconda3\\lib\\site-packages (from requests) (3.0.4)\n",
      "Requirement already satisfied: certifi>=2017.4.17 in c:\\users\\evan\\anaconda3\\lib\\site-packages (from requests) (2019.3.9)\n",
      "Requirement already satisfied: idna<2.9,>=2.5 in c:\\users\\evan\\anaconda3\\lib\\site-packages (from requests) (2.8)\n"
     ]
    }
   ],
   "source": [
    "# First, import the relevant modules\n",
    "!pip install requests\n",
    "import requests\n",
    "import math as m\n"
   ]
  },
  {
   "cell_type": "code",
   "execution_count": 41,
   "metadata": {},
   "outputs": [],
   "source": [
    "# Now, call the Quandl API and pull out a small sample of the data (only one day) to get a glimpse\n",
    "# into the JSON structure that will be returned\n",
    "r = requests.get('https://www.quandl.com/api/v3/datasets/FSE/AFX_X.json?api_key=' + API_KEY,\n",
    "                params = {'start_date':'2019-10-23', 'end_date':'2019-10-23'})"
   ]
  },
  {
   "cell_type": "code",
   "execution_count": 42,
   "metadata": {},
   "outputs": [
    {
     "data": {
      "text/plain": [
       "{'id': 10095370,\n",
       " 'dataset_code': 'AFX_X',\n",
       " 'database_code': 'FSE',\n",
       " 'name': 'Carl Zeiss Meditec (AFX_X)',\n",
       " 'description': 'Stock Prices for Carl Zeiss Meditec (2019-10-10) from the Frankfurt Stock Exchange.<br><br>Trading System: Xetra<br><br>ISIN: DE0005313704',\n",
       " 'refreshed_at': '2019-10-24T22:18:57.828Z',\n",
       " 'newest_available_date': '2019-10-24',\n",
       " 'oldest_available_date': '2000-06-07',\n",
       " 'column_names': ['Date',\n",
       "  'Open',\n",
       "  'High',\n",
       "  'Low',\n",
       "  'Close',\n",
       "  'Change',\n",
       "  'Traded Volume',\n",
       "  'Turnover',\n",
       "  'Last Price of the Day',\n",
       "  'Daily Traded Units',\n",
       "  'Daily Turnover'],\n",
       " 'frequency': 'daily',\n",
       " 'type': 'Time Series',\n",
       " 'premium': False,\n",
       " 'limit': None,\n",
       " 'transform': None,\n",
       " 'column_index': None,\n",
       " 'start_date': '2019-10-23',\n",
       " 'end_date': '2019-10-23',\n",
       " 'data': [['2019-10-23',\n",
       "   100.4,\n",
       "   100.8,\n",
       "   89.35,\n",
       "   92.55,\n",
       "   None,\n",
       "   605001.0,\n",
       "   56532324.0,\n",
       "   None,\n",
       "   None,\n",
       "   None]],\n",
       " 'collapse': None,\n",
       " 'order': None,\n",
       " 'database_id': 6129}"
      ]
     },
     "execution_count": 42,
     "metadata": {},
     "output_type": "execute_result"
    }
   ],
   "source": [
    "# Inspect the JSON structure of the object you created, and take note of how nested it is,\n",
    "# as well as the overall structure\n",
    "r.json()['dataset']"
   ]
  },
  {
   "cell_type": "markdown",
   "metadata": {},
   "source": [
    "These are your tasks for this mini project:\n",
    "\n",
    "1. Collect data from the Franfurt Stock Exchange, for the ticker AFX_X, for the whole year 2017 (keep in mind that the date format is YYYY-MM-DD).\n",
    "2. Convert the returned JSON object into a Python dictionary.\n",
    "3. Calculate what the highest and lowest opening prices were for the stock in this period.\n",
    "4. What was the largest change in any one day (based on High and Low price)?\n",
    "5. What was the largest change between any two days (based on Closing Price)?\n",
    "6. What was the average daily trading volume during this year?\n",
    "7. (Optional) What was the median trading volume during this year. (Note: you may need to implement your own function for calculating the median.)"
   ]
  },
  {
   "cell_type": "markdown",
   "metadata": {},
   "source": [
    "****\n",
    "## Task 1\n",
    " + Collect data for the year 2017"
   ]
  },
  {
   "cell_type": "code",
   "execution_count": 56,
   "metadata": {},
   "outputs": [],
   "source": [
    "r = requests.get('https://www.quandl.com/api/v3/datasets/FSE/AFX_X.json?api_key=' + API_KEY,\n",
    "                params = {'start_date':'2017-01-01', 'end_date':'2017-12-31'})"
   ]
  },
  {
   "cell_type": "markdown",
   "metadata": {},
   "source": [
    "****\n",
    "## Task 2\n",
    " + Convert to python dictionary"
   ]
  },
  {
   "cell_type": "code",
   "execution_count": 67,
   "metadata": {},
   "outputs": [],
   "source": [
    "afx_data = []\n",
    "for l in r.json()['dataset']['data']:\n",
    "    afx_data.append(dict(zip(r.json()['dataset']['column_names'], l)))"
   ]
  },
  {
   "cell_type": "markdown",
   "metadata": {},
   "source": [
    "****\n",
    "## Task 3\n",
    " + Create a list of tuples (open price, date). Filter out 'None'.\n",
    " + Print the min and max values from the list along with their corresponding dates."
   ]
  },
  {
   "cell_type": "code",
   "execution_count": 144,
   "metadata": {},
   "outputs": [],
   "source": [
    "open_prices = [(d['Open'], d['Date']) for d in afx_data if d['Open']]"
   ]
  },
  {
   "cell_type": "code",
   "execution_count": 145,
   "metadata": {},
   "outputs": [
    {
     "name": "stdout",
     "output_type": "stream",
     "text": [
      "53.11 on 2017-12-14\n"
     ]
    }
   ],
   "source": [
    "max_open = str(max(open_prices)[0]) + \" on \" + max(open_prices, key = lambda i : i[0])[1]\n",
    "print(max_open)"
   ]
  },
  {
   "cell_type": "code",
   "execution_count": 146,
   "metadata": {},
   "outputs": [
    {
     "name": "stdout",
     "output_type": "stream",
     "text": [
      "34.0 on 2017-01-24\n"
     ]
    }
   ],
   "source": [
    "min_open = str(min(open_prices)[0]) + \" on \" + min(open_prices, key = lambda i : i[0])[1]\n",
    "print(min_open)"
   ]
  },
  {
   "cell_type": "markdown",
   "metadata": {},
   "source": [
    "****\n",
    "## Task 4\n",
    " + Create a list of tuples (daily price change, date). by subtracting the Low from the High\n",
    " + Print the max of the list along with its corresponding date"
   ]
  },
  {
   "cell_type": "code",
   "execution_count": 147,
   "metadata": {},
   "outputs": [],
   "source": [
    "daily_high_low = [(d['High'] - d['Low'], d['Date']) for d in afx_data if d['Open'] and d['Close']]"
   ]
  },
  {
   "cell_type": "code",
   "execution_count": 150,
   "metadata": {},
   "outputs": [
    {
     "name": "stdout",
     "output_type": "stream",
     "text": [
      "2.8100000000000023 on 2017-05-11\n"
     ]
    }
   ],
   "source": [
    "largest_swing = str(max(daily_high_low)[0]) + ' on ' + max(daily_high_low, key = lambda i : i[0])[1]\n",
    "print(largest_swing)"
   ]
  },
  {
   "cell_type": "markdown",
   "metadata": {},
   "source": [
    "****\n",
    "## Task 5\n",
    " + Make a new API call where we request the change from the previous days values\n",
    " + Print the max absolute value of the closing price changes"
   ]
  },
  {
   "cell_type": "code",
   "execution_count": 97,
   "metadata": {},
   "outputs": [],
   "source": [
    "r2 = requests.get('https://www.quandl.com/api/v3/datasets/FSE/AFX_X.json?api_key=' + API_KEY,\n",
    "                params = {'start_date':'2017-01-01', 'end_date':'2017-12-31', 'transform':'diff'})"
   ]
  },
  {
   "cell_type": "code",
   "execution_count": 106,
   "metadata": {},
   "outputs": [],
   "source": [
    "afx_data2 = []\n",
    "for l in r2.json()['dataset']['data']:\n",
    "    afx_data2.append(dict(zip(r2.json()['dataset']['column_names'], l)))"
   ]
  },
  {
   "cell_type": "code",
   "execution_count": 108,
   "metadata": {},
   "outputs": [],
   "source": [
    "closing_price_changes = [d['Close'] for d in afx_data2 if d['Close']]"
   ]
  },
  {
   "cell_type": "code",
   "execution_count": 115,
   "metadata": {},
   "outputs": [
    {
     "name": "stdout",
     "output_type": "stream",
     "text": [
      "-2.56\n"
     ]
    }
   ],
   "source": [
    "print(max(closing_price_changes, key=abs))"
   ]
  },
  {
   "cell_type": "markdown",
   "metadata": {},
   "source": [
    "****\n",
    "## Task 6\n",
    " + Make a list of daily volumes from the original API call\n",
    " + Calculate the average of the daily volumes"
   ]
  },
  {
   "cell_type": "code",
   "execution_count": 123,
   "metadata": {},
   "outputs": [],
   "source": [
    "daily_volumes = [d['Traded Volume'] for d in afx_data if d['Traded Volume']]"
   ]
  },
  {
   "cell_type": "code",
   "execution_count": 124,
   "metadata": {},
   "outputs": [
    {
     "name": "stdout",
     "output_type": "stream",
     "text": [
      "89124.33725490196\n"
     ]
    }
   ],
   "source": [
    "print(sum(daily_volumes) / len(daily_volumes))"
   ]
  },
  {
   "cell_type": "markdown",
   "metadata": {},
   "source": [
    "****\n",
    "## Task 7\n",
    " + Define a function that returns either the middle number or the average of the two middle numbers of an ordered list\n",
    " + Call the function on the ordered list of daily volumes"
   ]
  },
  {
   "cell_type": "code",
   "execution_count": 135,
   "metadata": {},
   "outputs": [],
   "source": [
    "def give_median(x):\n",
    "    \"\"\"Finds the median of an ordered list\"\"\"\n",
    "    if len(x) // 2 == 0:\n",
    "        median = (x[(len(x)/2)] + x[(len(x)/2) + 1]) / 2\n",
    "    else:\n",
    "        median = x[m.ceil(len(x)/2)]\n",
    "    \n",
    "    return median"
   ]
  },
  {
   "cell_type": "code",
   "execution_count": 136,
   "metadata": {},
   "outputs": [
    {
     "data": {
      "text/plain": [
       "34640.0"
      ]
     },
     "execution_count": 136,
     "metadata": {},
     "output_type": "execute_result"
    }
   ],
   "source": [
    "give_median(daily_volumes)"
   ]
  }
 ],
 "metadata": {
  "kernelspec": {
   "display_name": "Python 3",
   "language": "python",
   "name": "python3"
  },
  "language_info": {
   "codemirror_mode": {
    "name": "ipython",
    "version": 3
   },
   "file_extension": ".py",
   "mimetype": "text/x-python",
   "name": "python",
   "nbconvert_exporter": "python",
   "pygments_lexer": "ipython3",
   "version": "3.7.3"
  }
 },
 "nbformat": 4,
 "nbformat_minor": 2
}
